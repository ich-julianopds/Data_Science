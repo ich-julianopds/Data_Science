{
  "nbformat": 4,
  "nbformat_minor": 0,
  "metadata": {
    "colab": {
      "name": "Untitled14.ipynb",
      "provenance": [],
      "toc_visible": true,
      "authorship_tag": "ABX9TyMEDEDrwDOSfL+IO7KPqqNw",
      "include_colab_link": true
    },
    "kernelspec": {
      "name": "python3",
      "display_name": "Python 3"
    }
  },
  "cells": [
    {
      "cell_type": "markdown",
      "metadata": {
        "id": "view-in-github",
        "colab_type": "text"
      },
      "source": [
        "<a href=\"https://colab.research.google.com/github/ich-julianopds/Data_Science/blob/master/An%C3%A1lise%20da%20Viol%C3%AAncia%20no%20Rio%20de%20Janeiro.ipynb\" target=\"_parent\"><img src=\"https://colab.research.google.com/assets/colab-badge.svg\" alt=\"Open In Colab\"/></a>"
      ]
    },
    {
      "cell_type": "markdown",
      "metadata": {
        "id": "aW4hs8gPMFRw",
        "colab_type": "text"
      },
      "source": [
        "[by](https://github.com/ich-julianopds/Data_Science) Juliano Paiva"
      ]
    },
    {
      "cell_type": "markdown",
      "metadata": {
        "id": "537pUFBJxHJy",
        "colab_type": "text"
      },
      "source": [
        "# **Analisando a Violência no Rio de Janeiro**"
      ]
    },
    {
      "cell_type": "markdown",
      "metadata": {
        "id": "85sdaFMxxf_Q",
        "colab_type": "text"
      },
      "source": [
        "Rio de Janeiro, cidade maravilhosa! Quem nunca ouviu falar do samba, das praias ou mesmo da agitada vida noturna no Rio de Janeiro. É um fato que um dos pontos mais fortes do Rio está no turismo. Quem nunca teve a curiosidade andar nas areias e mergulhar nas águas das belas praias de Copacabana, Ipanema e outras?\n",
        "Certamente é um atrativo e tanto.\n",
        "Mas há um ponto que infelizmente temos que nos deparar, não só no Rio de Janeiro, mas todos os Estados do Brasil: a crescente violência.\n",
        "Algo muito interessante é que atualmente, devido a fontes de informações disponibilizadas por órgãos públicos, temos acesso à este tipo de informações por meio de várias fontes de dados para consultas, tratam-se de dados compartilhados para consultas, para análises estatísticas por exemplo.\n",
        "\n"
      ]
    },
    {
      "cell_type": "markdown",
      "metadata": {
        "id": "1eXSmBp8eI7Z",
        "colab_type": "text"
      },
      "source": [
        "### **Obtenção dos Dados**"
      ]
    },
    {
      "cell_type": "markdown",
      "metadata": {
        "id": "otaE5efoeN77",
        "colab_type": "text"
      },
      "source": [
        "Os dados para este projetos foram obtidos pelo portal de Dados Abertos do Instituto de Segurança Pública do Rio de Janeiro, o Portal [ISPDados](http://www.ispdados.rj.gov.br/). No caso do dataset utilizado para este projeto, o arquivo ***.CSV*** pode ser baixado diretamente por este [link](https://raw.githubusercontent.com/carlosfab/dsnp2/master/datasets/violencia_rio.csv)."
      ]
    },
    {
      "cell_type": "markdown",
      "metadata": {
        "id": "Kd5eTHTUUy6Q",
        "colab_type": "text"
      },
      "source": [
        "### **Importação dos Dados**"
      ]
    },
    {
      "cell_type": "markdown",
      "metadata": {
        "id": "RzYnR7MzLMDN",
        "colab_type": "text"
      },
      "source": [
        "Para que possamos iniciar nossa análise, o primeiro passo é importar nossos pacotes, o PANDAS e o NUMPY, que servirão para a análise necessária deste nosso dataset."
      ]
    },
    {
      "cell_type": "code",
      "metadata": {
        "id": "6jDR-bMqCTU3",
        "colab_type": "code",
        "colab": {}
      },
      "source": [
        "import pandas as pd\n",
        "import numpy as np\n"
      ],
      "execution_count": 27,
      "outputs": []
    },
    {
      "cell_type": "markdown",
      "metadata": {
        "id": "_Tam6aeKLt6o",
        "colab_type": "text"
      },
      "source": [
        "O segundo passo, após a importação dos pacotes do Python necessários, é a importação de nosso arquivo csv. Conforme visualizamos abaixo:"
      ]
    },
    {
      "cell_type": "code",
      "metadata": {
        "id": "B5Z2OPvlLsOr",
        "colab_type": "code",
        "colab": {}
      },
      "source": [
        "df = pd.read_csv('https://raw.githubusercontent.com/carlosfab/dsnp2/master/datasets/violencia_rio.csv')"
      ],
      "execution_count": 28,
      "outputs": []
    },
    {
      "cell_type": "markdown",
      "metadata": {
        "id": "MsQARdTaVRZx",
        "colab_type": "text"
      },
      "source": [
        "### **Análise inicial dos Dados**"
      ]
    },
    {
      "cell_type": "markdown",
      "metadata": {
        "id": "Xsoyj_UrxLWp",
        "colab_type": "text"
      },
      "source": [
        "Na seqüência, vamos nos familiarizar e entender melhor o nosso dataset. Para verificarmos quantas linhas e quantas colunas ele possui, iremos utilizar os comandos: *df.shape* e *df.columns*"
      ]
    },
    {
      "cell_type": "code",
      "metadata": {
        "id": "BNkAIO2XCVpi",
        "colab_type": "code",
        "colab": {
          "base_uri": "https://localhost:8080/",
          "height": 34
        },
        "outputId": "319be1e3-42d2-4549-97c5-b8f78b4327df"
      },
      "source": [
        "df.shape"
      ],
      "execution_count": 11,
      "outputs": [
        {
          "output_type": "execute_result",
          "data": {
            "text/plain": [
              "(344, 56)"
            ]
          },
          "metadata": {
            "tags": []
          },
          "execution_count": 11
        }
      ]
    },
    {
      "cell_type": "markdown",
      "metadata": {
        "id": "AyobwUslNHXG",
        "colab_type": "text"
      },
      "source": [
        "Pelo ***df.shape***, observamos a quantidade de linhas (344) e de colunas (56), dentro do nosso dataset."
      ]
    },
    {
      "cell_type": "code",
      "metadata": {
        "id": "OiMBTfqbCfxu",
        "colab_type": "code",
        "colab": {
          "base_uri": "https://localhost:8080/",
          "height": 306
        },
        "outputId": "71c3727b-8218-4a6f-a57b-27ebc5e82eec"
      },
      "source": [
        "df.columns"
      ],
      "execution_count": 12,
      "outputs": [
        {
          "output_type": "execute_result",
          "data": {
            "text/plain": [
              "Index(['vano', 'mes', 'hom_doloso', 'lesao_corp_morte', 'latrocinio',\n",
              "       'hom_por_interv_policial', 'tentat_hom', 'lesao_corp_dolosa', 'estupro',\n",
              "       'hom_culposo', 'lesao_corp_culposa', 'roubo_comercio',\n",
              "       'roubo_residencia', 'roubo_veiculo', 'roubo_carga', 'roubo_transeunte',\n",
              "       'roubo_em_coletivo', 'roubo_banco', 'roubo_cx_eletronico',\n",
              "       'roubo_celular', 'roubo_conducao_saque', 'roubo_apos_saque',\n",
              "       'roubo_bicicleta', 'outros_roubos', 'total_roubos', 'furto_veiculos',\n",
              "       'furto_transeunte', 'furto_coletivo', 'furto_celular',\n",
              "       'furto_bicicleta', 'outros_furtos', 'total_furtos', 'sequestro',\n",
              "       'extorsao', 'sequestro_relampago', 'estelionato', 'apreensao_drogas',\n",
              "       'posse_drogas', 'trafico_drogas', 'apreensao_drogas_sem_autor',\n",
              "       'recuperacao_veiculos', 'apf', 'aaapai', 'cmp', 'cmba', 'ameaca',\n",
              "       'pessoas_desaparecidas', 'encontro_cadaver', 'encontro_ossada',\n",
              "       'pol_militares_mortos_serv', 'pol_civis_mortos_serv',\n",
              "       'indicador_letalidade', 'indicador_roubo_rua', 'indicador_roubo_veic',\n",
              "       'registro_ocorrencias', 'fase'],\n",
              "      dtype='object')"
            ]
          },
          "metadata": {
            "tags": []
          },
          "execution_count": 12
        }
      ]
    },
    {
      "cell_type": "markdown",
      "metadata": {
        "id": "Sf3EmWPdN4ab",
        "colab_type": "text"
      },
      "source": [
        "Acima observamos que o ***df.columns*** nos retorna quais são os valores de cada coluna do dataset, nos ajudando na familiarização e quais ão os valores que buscamos para a análise.\n",
        "Verificaremos em seguida, os tipos de cada variável, utilizando o ***.dtypes***."
      ]
    },
    {
      "cell_type": "code",
      "metadata": {
        "id": "l1st63zREN1w",
        "colab_type": "code",
        "colab": {
          "base_uri": "https://localhost:8080/",
          "height": 986
        },
        "outputId": "4209f5fb-3e2f-4692-eb6d-34199a132243"
      },
      "source": [
        "#dtypes mostra os tipos de cada variável\n",
        "df.dtypes"
      ],
      "execution_count": 13,
      "outputs": [
        {
          "output_type": "execute_result",
          "data": {
            "text/plain": [
              "vano                            int64\n",
              "mes                             int64\n",
              "hom_doloso                      int64\n",
              "lesao_corp_morte              float64\n",
              "latrocinio                      int64\n",
              "hom_por_interv_policial       float64\n",
              "tentat_hom                      int64\n",
              "lesao_corp_dolosa               int64\n",
              "estupro                       float64\n",
              "hom_culposo                   float64\n",
              "lesao_corp_culposa            float64\n",
              "roubo_comercio                  int64\n",
              "roubo_residencia                int64\n",
              "roubo_veiculo                   int64\n",
              "roubo_carga                     int64\n",
              "roubo_transeunte                int64\n",
              "roubo_em_coletivo               int64\n",
              "roubo_banco                     int64\n",
              "roubo_cx_eletronico           float64\n",
              "roubo_celular                 float64\n",
              "roubo_conducao_saque          float64\n",
              "roubo_apos_saque              float64\n",
              "roubo_bicicleta               float64\n",
              "outros_roubos                   int64\n",
              "total_roubos                    int64\n",
              "furto_veiculos                  int64\n",
              "furto_transeunte                int64\n",
              "furto_coletivo                float64\n",
              "furto_celular                 float64\n",
              "furto_bicicleta               float64\n",
              "outros_furtos                   int64\n",
              "total_furtos                    int64\n",
              "sequestro                     float64\n",
              "extorsao                      float64\n",
              "sequestro_relampago           float64\n",
              "estelionato                   float64\n",
              "apreensao_drogas                int64\n",
              "posse_drogas                  float64\n",
              "trafico_drogas                float64\n",
              "apreensao_drogas_sem_autor    float64\n",
              "recuperacao_veiculos            int64\n",
              "apf                           float64\n",
              "aaapai                        float64\n",
              "cmp                           float64\n",
              "cmba                          float64\n",
              "ameaca                        float64\n",
              "pessoas_desaparecidas         float64\n",
              "encontro_cadaver                int64\n",
              "encontro_ossada               float64\n",
              "pol_militares_mortos_serv     float64\n",
              "pol_civis_mortos_serv         float64\n",
              "indicador_letalidade            int64\n",
              "indicador_roubo_rua             int64\n",
              "indicador_roubo_veic            int64\n",
              "registro_ocorrencias          float64\n",
              "fase                            int64\n",
              "dtype: object"
            ]
          },
          "metadata": {
            "tags": []
          },
          "execution_count": 13
        }
      ]
    },
    {
      "cell_type": "markdown",
      "metadata": {
        "id": "6mpQr29jRBQK",
        "colab_type": "text"
      },
      "source": [
        "Veja na seqüência, as principais entradas:"
      ]
    },
    {
      "cell_type": "code",
      "metadata": {
        "id": "iL9DOXK5ERQp",
        "colab_type": "code",
        "colab": {
          "base_uri": "https://localhost:8080/",
          "height": 224
        },
        "outputId": "5746d3d4-e099-472d-ba4e-bb20da1d9b3e"
      },
      "source": [
        "# mostra as primeiras 5 entradas do dataset\n",
        "df.head()"
      ],
      "execution_count": 14,
      "outputs": [
        {
          "output_type": "execute_result",
          "data": {
            "text/html": [
              "<div>\n",
              "<style scoped>\n",
              "    .dataframe tbody tr th:only-of-type {\n",
              "        vertical-align: middle;\n",
              "    }\n",
              "\n",
              "    .dataframe tbody tr th {\n",
              "        vertical-align: top;\n",
              "    }\n",
              "\n",
              "    .dataframe thead th {\n",
              "        text-align: right;\n",
              "    }\n",
              "</style>\n",
              "<table border=\"1\" class=\"dataframe\">\n",
              "  <thead>\n",
              "    <tr style=\"text-align: right;\">\n",
              "      <th></th>\n",
              "      <th>vano</th>\n",
              "      <th>mes</th>\n",
              "      <th>hom_doloso</th>\n",
              "      <th>lesao_corp_morte</th>\n",
              "      <th>latrocinio</th>\n",
              "      <th>hom_por_interv_policial</th>\n",
              "      <th>tentat_hom</th>\n",
              "      <th>lesao_corp_dolosa</th>\n",
              "      <th>estupro</th>\n",
              "      <th>hom_culposo</th>\n",
              "      <th>lesao_corp_culposa</th>\n",
              "      <th>roubo_comercio</th>\n",
              "      <th>roubo_residencia</th>\n",
              "      <th>roubo_veiculo</th>\n",
              "      <th>roubo_carga</th>\n",
              "      <th>roubo_transeunte</th>\n",
              "      <th>roubo_em_coletivo</th>\n",
              "      <th>roubo_banco</th>\n",
              "      <th>roubo_cx_eletronico</th>\n",
              "      <th>roubo_celular</th>\n",
              "      <th>roubo_conducao_saque</th>\n",
              "      <th>roubo_apos_saque</th>\n",
              "      <th>roubo_bicicleta</th>\n",
              "      <th>outros_roubos</th>\n",
              "      <th>total_roubos</th>\n",
              "      <th>furto_veiculos</th>\n",
              "      <th>furto_transeunte</th>\n",
              "      <th>furto_coletivo</th>\n",
              "      <th>furto_celular</th>\n",
              "      <th>furto_bicicleta</th>\n",
              "      <th>outros_furtos</th>\n",
              "      <th>total_furtos</th>\n",
              "      <th>sequestro</th>\n",
              "      <th>extorsao</th>\n",
              "      <th>sequestro_relampago</th>\n",
              "      <th>estelionato</th>\n",
              "      <th>apreensao_drogas</th>\n",
              "      <th>posse_drogas</th>\n",
              "      <th>trafico_drogas</th>\n",
              "      <th>apreensao_drogas_sem_autor</th>\n",
              "      <th>recuperacao_veiculos</th>\n",
              "      <th>apf</th>\n",
              "      <th>aaapai</th>\n",
              "      <th>cmp</th>\n",
              "      <th>cmba</th>\n",
              "      <th>ameaca</th>\n",
              "      <th>pessoas_desaparecidas</th>\n",
              "      <th>encontro_cadaver</th>\n",
              "      <th>encontro_ossada</th>\n",
              "      <th>pol_militares_mortos_serv</th>\n",
              "      <th>pol_civis_mortos_serv</th>\n",
              "      <th>indicador_letalidade</th>\n",
              "      <th>indicador_roubo_rua</th>\n",
              "      <th>indicador_roubo_veic</th>\n",
              "      <th>registro_ocorrencias</th>\n",
              "      <th>fase</th>\n",
              "    </tr>\n",
              "  </thead>\n",
              "  <tbody>\n",
              "    <tr>\n",
              "      <th>0</th>\n",
              "      <td>1991</td>\n",
              "      <td>1</td>\n",
              "      <td>657</td>\n",
              "      <td>NaN</td>\n",
              "      <td>15</td>\n",
              "      <td>NaN</td>\n",
              "      <td>162</td>\n",
              "      <td>3051</td>\n",
              "      <td>NaN</td>\n",
              "      <td>NaN</td>\n",
              "      <td>NaN</td>\n",
              "      <td>350</td>\n",
              "      <td>188</td>\n",
              "      <td>1174</td>\n",
              "      <td>63</td>\n",
              "      <td>967</td>\n",
              "      <td>381</td>\n",
              "      <td>37</td>\n",
              "      <td>NaN</td>\n",
              "      <td>NaN</td>\n",
              "      <td>NaN</td>\n",
              "      <td>NaN</td>\n",
              "      <td>NaN</td>\n",
              "      <td>158</td>\n",
              "      <td>3318</td>\n",
              "      <td>2009</td>\n",
              "      <td>1147</td>\n",
              "      <td>NaN</td>\n",
              "      <td>NaN</td>\n",
              "      <td>NaN</td>\n",
              "      <td>3561</td>\n",
              "      <td>6717</td>\n",
              "      <td>NaN</td>\n",
              "      <td>NaN</td>\n",
              "      <td>NaN</td>\n",
              "      <td>NaN</td>\n",
              "      <td>133</td>\n",
              "      <td>NaN</td>\n",
              "      <td>NaN</td>\n",
              "      <td>NaN</td>\n",
              "      <td>872</td>\n",
              "      <td>NaN</td>\n",
              "      <td>NaN</td>\n",
              "      <td>NaN</td>\n",
              "      <td>NaN</td>\n",
              "      <td>NaN</td>\n",
              "      <td>NaN</td>\n",
              "      <td>217</td>\n",
              "      <td>NaN</td>\n",
              "      <td>NaN</td>\n",
              "      <td>NaN</td>\n",
              "      <td>672</td>\n",
              "      <td>1348</td>\n",
              "      <td>1174</td>\n",
              "      <td>NaN</td>\n",
              "      <td>3</td>\n",
              "    </tr>\n",
              "    <tr>\n",
              "      <th>1</th>\n",
              "      <td>1991</td>\n",
              "      <td>2</td>\n",
              "      <td>732</td>\n",
              "      <td>NaN</td>\n",
              "      <td>17</td>\n",
              "      <td>NaN</td>\n",
              "      <td>175</td>\n",
              "      <td>3421</td>\n",
              "      <td>NaN</td>\n",
              "      <td>NaN</td>\n",
              "      <td>NaN</td>\n",
              "      <td>357</td>\n",
              "      <td>171</td>\n",
              "      <td>1097</td>\n",
              "      <td>64</td>\n",
              "      <td>963</td>\n",
              "      <td>432</td>\n",
              "      <td>35</td>\n",
              "      <td>NaN</td>\n",
              "      <td>NaN</td>\n",
              "      <td>NaN</td>\n",
              "      <td>NaN</td>\n",
              "      <td>NaN</td>\n",
              "      <td>142</td>\n",
              "      <td>3261</td>\n",
              "      <td>1850</td>\n",
              "      <td>1066</td>\n",
              "      <td>NaN</td>\n",
              "      <td>NaN</td>\n",
              "      <td>NaN</td>\n",
              "      <td>3309</td>\n",
              "      <td>6225</td>\n",
              "      <td>NaN</td>\n",
              "      <td>NaN</td>\n",
              "      <td>NaN</td>\n",
              "      <td>NaN</td>\n",
              "      <td>127</td>\n",
              "      <td>NaN</td>\n",
              "      <td>NaN</td>\n",
              "      <td>NaN</td>\n",
              "      <td>751</td>\n",
              "      <td>NaN</td>\n",
              "      <td>NaN</td>\n",
              "      <td>NaN</td>\n",
              "      <td>NaN</td>\n",
              "      <td>NaN</td>\n",
              "      <td>NaN</td>\n",
              "      <td>209</td>\n",
              "      <td>NaN</td>\n",
              "      <td>NaN</td>\n",
              "      <td>NaN</td>\n",
              "      <td>749</td>\n",
              "      <td>1395</td>\n",
              "      <td>1097</td>\n",
              "      <td>NaN</td>\n",
              "      <td>3</td>\n",
              "    </tr>\n",
              "    <tr>\n",
              "      <th>2</th>\n",
              "      <td>1991</td>\n",
              "      <td>3</td>\n",
              "      <td>713</td>\n",
              "      <td>NaN</td>\n",
              "      <td>25</td>\n",
              "      <td>NaN</td>\n",
              "      <td>216</td>\n",
              "      <td>3613</td>\n",
              "      <td>NaN</td>\n",
              "      <td>NaN</td>\n",
              "      <td>NaN</td>\n",
              "      <td>443</td>\n",
              "      <td>191</td>\n",
              "      <td>1265</td>\n",
              "      <td>71</td>\n",
              "      <td>963</td>\n",
              "      <td>422</td>\n",
              "      <td>43</td>\n",
              "      <td>NaN</td>\n",
              "      <td>NaN</td>\n",
              "      <td>NaN</td>\n",
              "      <td>NaN</td>\n",
              "      <td>NaN</td>\n",
              "      <td>131</td>\n",
              "      <td>3529</td>\n",
              "      <td>2084</td>\n",
              "      <td>1062</td>\n",
              "      <td>NaN</td>\n",
              "      <td>NaN</td>\n",
              "      <td>NaN</td>\n",
              "      <td>3573</td>\n",
              "      <td>6719</td>\n",
              "      <td>NaN</td>\n",
              "      <td>NaN</td>\n",
              "      <td>NaN</td>\n",
              "      <td>NaN</td>\n",
              "      <td>80</td>\n",
              "      <td>NaN</td>\n",
              "      <td>NaN</td>\n",
              "      <td>NaN</td>\n",
              "      <td>789</td>\n",
              "      <td>NaN</td>\n",
              "      <td>NaN</td>\n",
              "      <td>NaN</td>\n",
              "      <td>NaN</td>\n",
              "      <td>NaN</td>\n",
              "      <td>NaN</td>\n",
              "      <td>188</td>\n",
              "      <td>NaN</td>\n",
              "      <td>NaN</td>\n",
              "      <td>NaN</td>\n",
              "      <td>738</td>\n",
              "      <td>1385</td>\n",
              "      <td>1265</td>\n",
              "      <td>NaN</td>\n",
              "      <td>3</td>\n",
              "    </tr>\n",
              "    <tr>\n",
              "      <th>3</th>\n",
              "      <td>1991</td>\n",
              "      <td>4</td>\n",
              "      <td>634</td>\n",
              "      <td>NaN</td>\n",
              "      <td>20</td>\n",
              "      <td>NaN</td>\n",
              "      <td>200</td>\n",
              "      <td>3211</td>\n",
              "      <td>NaN</td>\n",
              "      <td>NaN</td>\n",
              "      <td>NaN</td>\n",
              "      <td>425</td>\n",
              "      <td>199</td>\n",
              "      <td>1415</td>\n",
              "      <td>81</td>\n",
              "      <td>1186</td>\n",
              "      <td>354</td>\n",
              "      <td>36</td>\n",
              "      <td>NaN</td>\n",
              "      <td>NaN</td>\n",
              "      <td>NaN</td>\n",
              "      <td>NaN</td>\n",
              "      <td>NaN</td>\n",
              "      <td>112</td>\n",
              "      <td>3808</td>\n",
              "      <td>2085</td>\n",
              "      <td>1195</td>\n",
              "      <td>NaN</td>\n",
              "      <td>NaN</td>\n",
              "      <td>NaN</td>\n",
              "      <td>3290</td>\n",
              "      <td>6570</td>\n",
              "      <td>NaN</td>\n",
              "      <td>NaN</td>\n",
              "      <td>NaN</td>\n",
              "      <td>NaN</td>\n",
              "      <td>133</td>\n",
              "      <td>NaN</td>\n",
              "      <td>NaN</td>\n",
              "      <td>NaN</td>\n",
              "      <td>787</td>\n",
              "      <td>NaN</td>\n",
              "      <td>NaN</td>\n",
              "      <td>NaN</td>\n",
              "      <td>NaN</td>\n",
              "      <td>NaN</td>\n",
              "      <td>NaN</td>\n",
              "      <td>140</td>\n",
              "      <td>NaN</td>\n",
              "      <td>NaN</td>\n",
              "      <td>NaN</td>\n",
              "      <td>654</td>\n",
              "      <td>1540</td>\n",
              "      <td>1415</td>\n",
              "      <td>NaN</td>\n",
              "      <td>3</td>\n",
              "    </tr>\n",
              "    <tr>\n",
              "      <th>4</th>\n",
              "      <td>1991</td>\n",
              "      <td>5</td>\n",
              "      <td>650</td>\n",
              "      <td>NaN</td>\n",
              "      <td>20</td>\n",
              "      <td>NaN</td>\n",
              "      <td>146</td>\n",
              "      <td>3051</td>\n",
              "      <td>NaN</td>\n",
              "      <td>NaN</td>\n",
              "      <td>NaN</td>\n",
              "      <td>553</td>\n",
              "      <td>231</td>\n",
              "      <td>1449</td>\n",
              "      <td>82</td>\n",
              "      <td>931</td>\n",
              "      <td>335</td>\n",
              "      <td>27</td>\n",
              "      <td>NaN</td>\n",
              "      <td>NaN</td>\n",
              "      <td>NaN</td>\n",
              "      <td>NaN</td>\n",
              "      <td>NaN</td>\n",
              "      <td>147</td>\n",
              "      <td>3755</td>\n",
              "      <td>2185</td>\n",
              "      <td>723</td>\n",
              "      <td>NaN</td>\n",
              "      <td>NaN</td>\n",
              "      <td>NaN</td>\n",
              "      <td>3546</td>\n",
              "      <td>6454</td>\n",
              "      <td>NaN</td>\n",
              "      <td>NaN</td>\n",
              "      <td>NaN</td>\n",
              "      <td>NaN</td>\n",
              "      <td>163</td>\n",
              "      <td>NaN</td>\n",
              "      <td>NaN</td>\n",
              "      <td>NaN</td>\n",
              "      <td>845</td>\n",
              "      <td>NaN</td>\n",
              "      <td>NaN</td>\n",
              "      <td>NaN</td>\n",
              "      <td>NaN</td>\n",
              "      <td>NaN</td>\n",
              "      <td>NaN</td>\n",
              "      <td>78</td>\n",
              "      <td>NaN</td>\n",
              "      <td>NaN</td>\n",
              "      <td>NaN</td>\n",
              "      <td>670</td>\n",
              "      <td>1266</td>\n",
              "      <td>1449</td>\n",
              "      <td>NaN</td>\n",
              "      <td>3</td>\n",
              "    </tr>\n",
              "  </tbody>\n",
              "</table>\n",
              "</div>"
            ],
            "text/plain": [
              "   vano  mes  hom_doloso  ...  indicador_roubo_veic  registro_ocorrencias  fase\n",
              "0  1991    1         657  ...                  1174                   NaN     3\n",
              "1  1991    2         732  ...                  1097                   NaN     3\n",
              "2  1991    3         713  ...                  1265                   NaN     3\n",
              "3  1991    4         634  ...                  1415                   NaN     3\n",
              "4  1991    5         650  ...                  1449                   NaN     3\n",
              "\n",
              "[5 rows x 56 columns]"
            ]
          },
          "metadata": {
            "tags": []
          },
          "execution_count": 14
        }
      ]
    },
    {
      "cell_type": "markdown",
      "metadata": {
        "id": "X2igQybRVe_c",
        "colab_type": "text"
      },
      "source": [
        "### **Informações Estatísticas sobre a Violência no Rio de Janeiro**"
      ]
    },
    {
      "cell_type": "markdown",
      "metadata": {
        "id": "5qDnn86uPti2",
        "colab_type": "text"
      },
      "source": [
        "Vamos utilizar abaixo o df.describe. Ele mostra os valores matemáticos do Dataset, como por exemplo:\n",
        "\n",
        "1.   Mean = Média\n",
        "2.   Max = Maior valor da coluna\n",
        "3.   Min = Menor valor da coluna"
      ]
    },
    {
      "cell_type": "code",
      "metadata": {
        "id": "lPDvUPzEEYcp",
        "colab_type": "code",
        "colab": {
          "base_uri": "https://localhost:8080/",
          "height": 317
        },
        "outputId": "bc06dffb-57db-4ca4-e6e8-becadcd88e12"
      },
      "source": [
        "df.describe()"
      ],
      "execution_count": 16,
      "outputs": [
        {
          "output_type": "execute_result",
          "data": {
            "text/html": [
              "<div>\n",
              "<style scoped>\n",
              "    .dataframe tbody tr th:only-of-type {\n",
              "        vertical-align: middle;\n",
              "    }\n",
              "\n",
              "    .dataframe tbody tr th {\n",
              "        vertical-align: top;\n",
              "    }\n",
              "\n",
              "    .dataframe thead th {\n",
              "        text-align: right;\n",
              "    }\n",
              "</style>\n",
              "<table border=\"1\" class=\"dataframe\">\n",
              "  <thead>\n",
              "    <tr style=\"text-align: right;\">\n",
              "      <th></th>\n",
              "      <th>vano</th>\n",
              "      <th>mes</th>\n",
              "      <th>hom_doloso</th>\n",
              "      <th>lesao_corp_morte</th>\n",
              "      <th>latrocinio</th>\n",
              "      <th>hom_por_interv_policial</th>\n",
              "      <th>tentat_hom</th>\n",
              "      <th>lesao_corp_dolosa</th>\n",
              "      <th>estupro</th>\n",
              "      <th>hom_culposo</th>\n",
              "      <th>lesao_corp_culposa</th>\n",
              "      <th>roubo_comercio</th>\n",
              "      <th>roubo_residencia</th>\n",
              "      <th>roubo_veiculo</th>\n",
              "      <th>roubo_carga</th>\n",
              "      <th>roubo_transeunte</th>\n",
              "      <th>roubo_em_coletivo</th>\n",
              "      <th>roubo_banco</th>\n",
              "      <th>roubo_cx_eletronico</th>\n",
              "      <th>roubo_celular</th>\n",
              "      <th>roubo_conducao_saque</th>\n",
              "      <th>roubo_apos_saque</th>\n",
              "      <th>roubo_bicicleta</th>\n",
              "      <th>outros_roubos</th>\n",
              "      <th>total_roubos</th>\n",
              "      <th>furto_veiculos</th>\n",
              "      <th>furto_transeunte</th>\n",
              "      <th>furto_coletivo</th>\n",
              "      <th>furto_celular</th>\n",
              "      <th>furto_bicicleta</th>\n",
              "      <th>outros_furtos</th>\n",
              "      <th>total_furtos</th>\n",
              "      <th>sequestro</th>\n",
              "      <th>extorsao</th>\n",
              "      <th>sequestro_relampago</th>\n",
              "      <th>estelionato</th>\n",
              "      <th>apreensao_drogas</th>\n",
              "      <th>posse_drogas</th>\n",
              "      <th>trafico_drogas</th>\n",
              "      <th>apreensao_drogas_sem_autor</th>\n",
              "      <th>recuperacao_veiculos</th>\n",
              "      <th>apf</th>\n",
              "      <th>aaapai</th>\n",
              "      <th>cmp</th>\n",
              "      <th>cmba</th>\n",
              "      <th>ameaca</th>\n",
              "      <th>pessoas_desaparecidas</th>\n",
              "      <th>encontro_cadaver</th>\n",
              "      <th>encontro_ossada</th>\n",
              "      <th>pol_militares_mortos_serv</th>\n",
              "      <th>pol_civis_mortos_serv</th>\n",
              "      <th>indicador_letalidade</th>\n",
              "      <th>indicador_roubo_rua</th>\n",
              "      <th>indicador_roubo_veic</th>\n",
              "      <th>registro_ocorrencias</th>\n",
              "      <th>fase</th>\n",
              "    </tr>\n",
              "  </thead>\n",
              "  <tbody>\n",
              "    <tr>\n",
              "      <th>count</th>\n",
              "      <td>344.000000</td>\n",
              "      <td>344.000000</td>\n",
              "      <td>344.000000</td>\n",
              "      <td>248.000000</td>\n",
              "      <td>344.000000</td>\n",
              "      <td>260.00000</td>\n",
              "      <td>344.000000</td>\n",
              "      <td>344.000000</td>\n",
              "      <td>200.000000</td>\n",
              "      <td>260.000000</td>\n",
              "      <td>248.000000</td>\n",
              "      <td>344.000000</td>\n",
              "      <td>344.000000</td>\n",
              "      <td>344.000000</td>\n",
              "      <td>344.000000</td>\n",
              "      <td>344.000000</td>\n",
              "      <td>344.000000</td>\n",
              "      <td>344.000000</td>\n",
              "      <td>200.000000</td>\n",
              "      <td>236.000000</td>\n",
              "      <td>200.000000</td>\n",
              "      <td>200.000000</td>\n",
              "      <td>68.000000</td>\n",
              "      <td>344.000000</td>\n",
              "      <td>344.000000</td>\n",
              "      <td>344.000000</td>\n",
              "      <td>344.000000</td>\n",
              "      <td>200.000000</td>\n",
              "      <td>200.000000</td>\n",
              "      <td>68.000000</td>\n",
              "      <td>344.000000</td>\n",
              "      <td>344.000000</td>\n",
              "      <td>248.000000</td>\n",
              "      <td>200.000000</td>\n",
              "      <td>200.000000</td>\n",
              "      <td>200.000000</td>\n",
              "      <td>344.000000</td>\n",
              "      <td>164.000000</td>\n",
              "      <td>164.000000</td>\n",
              "      <td>164.000000</td>\n",
              "      <td>344.000000</td>\n",
              "      <td>164.000000</td>\n",
              "      <td>164.000000</td>\n",
              "      <td>164.000000</td>\n",
              "      <td>164.000000</td>\n",
              "      <td>248.000000</td>\n",
              "      <td>212.000000</td>\n",
              "      <td>344.000000</td>\n",
              "      <td>212.000000</td>\n",
              "      <td>200.000000</td>\n",
              "      <td>200.00000</td>\n",
              "      <td>344.000000</td>\n",
              "      <td>344.000000</td>\n",
              "      <td>344.000000</td>\n",
              "      <td>248.000000</td>\n",
              "      <td>344.000000</td>\n",
              "    </tr>\n",
              "    <tr>\n",
              "      <th>mean</th>\n",
              "      <td>2004.837209</td>\n",
              "      <td>6.453488</td>\n",
              "      <td>504.555233</td>\n",
              "      <td>4.334677</td>\n",
              "      <td>15.668605</td>\n",
              "      <td>71.90000</td>\n",
              "      <td>318.267442</td>\n",
              "      <td>5492.799419</td>\n",
              "      <td>369.945000</td>\n",
              "      <td>212.119231</td>\n",
              "      <td>3410.762097</td>\n",
              "      <td>455.005814</td>\n",
              "      <td>133.284884</td>\n",
              "      <td>2448.697674</td>\n",
              "      <td>340.322674</td>\n",
              "      <td>3418.520349</td>\n",
              "      <td>659.002907</td>\n",
              "      <td>9.375000</td>\n",
              "      <td>3.550000</td>\n",
              "      <td>957.974576</td>\n",
              "      <td>11.320000</td>\n",
              "      <td>145.665000</td>\n",
              "      <td>10.808824</td>\n",
              "      <td>1211.223837</td>\n",
              "      <td>9428.119186</td>\n",
              "      <td>1674.671512</td>\n",
              "      <td>1518.921512</td>\n",
              "      <td>650.230000</td>\n",
              "      <td>1449.175000</td>\n",
              "      <td>124.808824</td>\n",
              "      <td>5994.328488</td>\n",
              "      <td>10433.177326</td>\n",
              "      <td>0.665323</td>\n",
              "      <td>133.265000</td>\n",
              "      <td>7.755000</td>\n",
              "      <td>2231.860000</td>\n",
              "      <td>1071.930233</td>\n",
              "      <td>609.237805</td>\n",
              "      <td>759.146341</td>\n",
              "      <td>186.146341</td>\n",
              "      <td>1772.238372</td>\n",
              "      <td>2319.585366</td>\n",
              "      <td>568.628049</td>\n",
              "      <td>1255.512195</td>\n",
              "      <td>83.042683</td>\n",
              "      <td>5530.326613</td>\n",
              "      <td>435.132075</td>\n",
              "      <td>66.261628</td>\n",
              "      <td>3.301887</td>\n",
              "      <td>2.085000</td>\n",
              "      <td>0.34000</td>\n",
              "      <td>577.691860</td>\n",
              "      <td>4734.738372</td>\n",
              "      <td>2448.697674</td>\n",
              "      <td>53794.161290</td>\n",
              "      <td>2.994186</td>\n",
              "    </tr>\n",
              "    <tr>\n",
              "      <th>std</th>\n",
              "      <td>8.289036</td>\n",
              "      <td>3.447759</td>\n",
              "      <td>113.774481</td>\n",
              "      <td>2.755357</td>\n",
              "      <td>5.861427</td>\n",
              "      <td>36.48882</td>\n",
              "      <td>127.606645</td>\n",
              "      <td>1514.220579</td>\n",
              "      <td>94.392434</td>\n",
              "      <td>54.234700</td>\n",
              "      <td>776.156561</td>\n",
              "      <td>119.765076</td>\n",
              "      <td>44.317963</td>\n",
              "      <td>789.689559</td>\n",
              "      <td>223.855243</td>\n",
              "      <td>2459.017549</td>\n",
              "      <td>297.622342</td>\n",
              "      <td>10.564894</td>\n",
              "      <td>2.634808</td>\n",
              "      <td>624.309034</td>\n",
              "      <td>6.404113</td>\n",
              "      <td>55.392367</td>\n",
              "      <td>7.767628</td>\n",
              "      <td>800.576723</td>\n",
              "      <td>4578.013053</td>\n",
              "      <td>294.852020</td>\n",
              "      <td>971.853102</td>\n",
              "      <td>268.836273</td>\n",
              "      <td>368.638776</td>\n",
              "      <td>80.247427</td>\n",
              "      <td>1964.767779</td>\n",
              "      <td>3696.725756</td>\n",
              "      <td>0.959128</td>\n",
              "      <td>43.303821</td>\n",
              "      <td>5.089646</td>\n",
              "      <td>772.093064</td>\n",
              "      <td>643.381991</td>\n",
              "      <td>246.307700</td>\n",
              "      <td>312.871487</td>\n",
              "      <td>36.221243</td>\n",
              "      <td>656.761843</td>\n",
              "      <td>650.520866</td>\n",
              "      <td>248.040620</td>\n",
              "      <td>357.035450</td>\n",
              "      <td>62.951374</td>\n",
              "      <td>1100.752625</td>\n",
              "      <td>65.353516</td>\n",
              "      <td>34.464519</td>\n",
              "      <td>2.192922</td>\n",
              "      <td>1.761616</td>\n",
              "      <td>0.63752</td>\n",
              "      <td>104.973929</td>\n",
              "      <td>3204.054864</td>\n",
              "      <td>789.689559</td>\n",
              "      <td>11039.051992</td>\n",
              "      <td>0.076138</td>\n",
              "    </tr>\n",
              "    <tr>\n",
              "      <th>min</th>\n",
              "      <td>1991.000000</td>\n",
              "      <td>1.000000</td>\n",
              "      <td>272.000000</td>\n",
              "      <td>0.000000</td>\n",
              "      <td>2.000000</td>\n",
              "      <td>10.00000</td>\n",
              "      <td>122.000000</td>\n",
              "      <td>2350.000000</td>\n",
              "      <td>188.000000</td>\n",
              "      <td>111.000000</td>\n",
              "      <td>848.000000</td>\n",
              "      <td>243.000000</td>\n",
              "      <td>49.000000</td>\n",
              "      <td>1097.000000</td>\n",
              "      <td>59.000000</td>\n",
              "      <td>688.000000</td>\n",
              "      <td>281.000000</td>\n",
              "      <td>0.000000</td>\n",
              "      <td>0.000000</td>\n",
              "      <td>0.000000</td>\n",
              "      <td>1.000000</td>\n",
              "      <td>11.000000</td>\n",
              "      <td>0.000000</td>\n",
              "      <td>81.000000</td>\n",
              "      <td>3261.000000</td>\n",
              "      <td>1159.000000</td>\n",
              "      <td>322.000000</td>\n",
              "      <td>23.000000</td>\n",
              "      <td>484.000000</td>\n",
              "      <td>0.000000</td>\n",
              "      <td>2322.000000</td>\n",
              "      <td>4691.000000</td>\n",
              "      <td>0.000000</td>\n",
              "      <td>23.000000</td>\n",
              "      <td>0.000000</td>\n",
              "      <td>717.000000</td>\n",
              "      <td>80.000000</td>\n",
              "      <td>248.000000</td>\n",
              "      <td>262.000000</td>\n",
              "      <td>114.000000</td>\n",
              "      <td>729.000000</td>\n",
              "      <td>1173.000000</td>\n",
              "      <td>225.000000</td>\n",
              "      <td>628.000000</td>\n",
              "      <td>21.000000</td>\n",
              "      <td>1409.000000</td>\n",
              "      <td>236.000000</td>\n",
              "      <td>0.000000</td>\n",
              "      <td>0.000000</td>\n",
              "      <td>0.000000</td>\n",
              "      <td>0.00000</td>\n",
              "      <td>334.000000</td>\n",
              "      <td>1086.000000</td>\n",
              "      <td>1097.000000</td>\n",
              "      <td>30621.000000</td>\n",
              "      <td>2.000000</td>\n",
              "    </tr>\n",
              "    <tr>\n",
              "      <th>25%</th>\n",
              "      <td>1998.000000</td>\n",
              "      <td>3.000000</td>\n",
              "      <td>413.750000</td>\n",
              "      <td>2.000000</td>\n",
              "      <td>11.000000</td>\n",
              "      <td>41.75000</td>\n",
              "      <td>200.000000</td>\n",
              "      <td>4067.000000</td>\n",
              "      <td>282.000000</td>\n",
              "      <td>176.000000</td>\n",
              "      <td>3040.000000</td>\n",
              "      <td>365.750000</td>\n",
              "      <td>103.750000</td>\n",
              "      <td>1889.750000</td>\n",
              "      <td>208.250000</td>\n",
              "      <td>1053.000000</td>\n",
              "      <td>430.750000</td>\n",
              "      <td>2.000000</td>\n",
              "      <td>2.000000</td>\n",
              "      <td>549.750000</td>\n",
              "      <td>6.000000</td>\n",
              "      <td>106.000000</td>\n",
              "      <td>2.250000</td>\n",
              "      <td>811.750000</td>\n",
              "      <td>5107.750000</td>\n",
              "      <td>1430.500000</td>\n",
              "      <td>732.000000</td>\n",
              "      <td>501.000000</td>\n",
              "      <td>1297.000000</td>\n",
              "      <td>3.750000</td>\n",
              "      <td>3978.000000</td>\n",
              "      <td>6700.250000</td>\n",
              "      <td>0.000000</td>\n",
              "      <td>109.750000</td>\n",
              "      <td>4.750000</td>\n",
              "      <td>1654.500000</td>\n",
              "      <td>714.500000</td>\n",
              "      <td>360.500000</td>\n",
              "      <td>426.000000</td>\n",
              "      <td>160.000000</td>\n",
              "      <td>1276.750000</td>\n",
              "      <td>1681.000000</td>\n",
              "      <td>332.500000</td>\n",
              "      <td>950.500000</td>\n",
              "      <td>46.000000</td>\n",
              "      <td>4868.500000</td>\n",
              "      <td>390.000000</td>\n",
              "      <td>42.000000</td>\n",
              "      <td>2.000000</td>\n",
              "      <td>1.000000</td>\n",
              "      <td>0.00000</td>\n",
              "      <td>500.000000</td>\n",
              "      <td>1557.000000</td>\n",
              "      <td>1889.750000</td>\n",
              "      <td>45374.500000</td>\n",
              "      <td>3.000000</td>\n",
              "    </tr>\n",
              "    <tr>\n",
              "      <th>50%</th>\n",
              "      <td>2005.000000</td>\n",
              "      <td>6.000000</td>\n",
              "      <td>507.000000</td>\n",
              "      <td>4.000000</td>\n",
              "      <td>15.000000</td>\n",
              "      <td>70.00000</td>\n",
              "      <td>318.500000</td>\n",
              "      <td>5830.500000</td>\n",
              "      <td>384.000000</td>\n",
              "      <td>203.000000</td>\n",
              "      <td>3372.000000</td>\n",
              "      <td>433.500000</td>\n",
              "      <td>125.000000</td>\n",
              "      <td>2322.000000</td>\n",
              "      <td>285.500000</td>\n",
              "      <td>2788.500000</td>\n",
              "      <td>592.000000</td>\n",
              "      <td>4.500000</td>\n",
              "      <td>3.000000</td>\n",
              "      <td>717.500000</td>\n",
              "      <td>10.000000</td>\n",
              "      <td>149.500000</td>\n",
              "      <td>13.000000</td>\n",
              "      <td>1154.000000</td>\n",
              "      <td>9243.500000</td>\n",
              "      <td>1637.500000</td>\n",
              "      <td>1076.500000</td>\n",
              "      <td>717.500000</td>\n",
              "      <td>1492.500000</td>\n",
              "      <td>158.000000</td>\n",
              "      <td>6559.000000</td>\n",
              "      <td>10448.500000</td>\n",
              "      <td>0.000000</td>\n",
              "      <td>132.500000</td>\n",
              "      <td>7.000000</td>\n",
              "      <td>2170.500000</td>\n",
              "      <td>979.500000</td>\n",
              "      <td>623.000000</td>\n",
              "      <td>815.000000</td>\n",
              "      <td>184.000000</td>\n",
              "      <td>1755.000000</td>\n",
              "      <td>2424.000000</td>\n",
              "      <td>530.000000</td>\n",
              "      <td>1259.000000</td>\n",
              "      <td>58.000000</td>\n",
              "      <td>5455.000000</td>\n",
              "      <td>427.000000</td>\n",
              "      <td>60.500000</td>\n",
              "      <td>3.000000</td>\n",
              "      <td>2.000000</td>\n",
              "      <td>0.00000</td>\n",
              "      <td>590.000000</td>\n",
              "      <td>4190.000000</td>\n",
              "      <td>2322.000000</td>\n",
              "      <td>54926.500000</td>\n",
              "      <td>3.000000</td>\n",
              "    </tr>\n",
              "    <tr>\n",
              "      <th>75%</th>\n",
              "      <td>2012.000000</td>\n",
              "      <td>9.000000</td>\n",
              "      <td>577.250000</td>\n",
              "      <td>6.000000</td>\n",
              "      <td>19.000000</td>\n",
              "      <td>96.25000</td>\n",
              "      <td>398.250000</td>\n",
              "      <td>6582.500000</td>\n",
              "      <td>441.250000</td>\n",
              "      <td>236.250000</td>\n",
              "      <td>3733.500000</td>\n",
              "      <td>536.250000</td>\n",
              "      <td>151.250000</td>\n",
              "      <td>2778.000000</td>\n",
              "      <td>401.250000</td>\n",
              "      <td>5385.250000</td>\n",
              "      <td>784.000000</td>\n",
              "      <td>14.000000</td>\n",
              "      <td>5.000000</td>\n",
              "      <td>1306.750000</td>\n",
              "      <td>15.000000</td>\n",
              "      <td>180.500000</td>\n",
              "      <td>17.000000</td>\n",
              "      <td>1635.000000</td>\n",
              "      <td>11590.500000</td>\n",
              "      <td>1833.250000</td>\n",
              "      <td>2334.250000</td>\n",
              "      <td>860.000000</td>\n",
              "      <td>1731.250000</td>\n",
              "      <td>181.500000</td>\n",
              "      <td>7601.500000</td>\n",
              "      <td>13877.500000</td>\n",
              "      <td>1.000000</td>\n",
              "      <td>152.250000</td>\n",
              "      <td>11.000000</td>\n",
              "      <td>2880.500000</td>\n",
              "      <td>1546.000000</td>\n",
              "      <td>763.500000</td>\n",
              "      <td>1045.250000</td>\n",
              "      <td>208.000000</td>\n",
              "      <td>2202.000000</td>\n",
              "      <td>2905.500000</td>\n",
              "      <td>793.500000</td>\n",
              "      <td>1515.250000</td>\n",
              "      <td>93.000000</td>\n",
              "      <td>6261.750000</td>\n",
              "      <td>481.500000</td>\n",
              "      <td>87.000000</td>\n",
              "      <td>4.000000</td>\n",
              "      <td>3.000000</td>\n",
              "      <td>1.00000</td>\n",
              "      <td>649.000000</td>\n",
              "      <td>6872.750000</td>\n",
              "      <td>2778.000000</td>\n",
              "      <td>63292.500000</td>\n",
              "      <td>3.000000</td>\n",
              "    </tr>\n",
              "    <tr>\n",
              "      <th>max</th>\n",
              "      <td>2019.000000</td>\n",
              "      <td>12.000000</td>\n",
              "      <td>831.000000</td>\n",
              "      <td>21.000000</td>\n",
              "      <td>36.000000</td>\n",
              "      <td>194.00000</td>\n",
              "      <td>645.000000</td>\n",
              "      <td>9050.000000</td>\n",
              "      <td>561.000000</td>\n",
              "      <td>449.000000</td>\n",
              "      <td>6653.000000</td>\n",
              "      <td>914.000000</td>\n",
              "      <td>300.000000</td>\n",
              "      <td>5358.000000</td>\n",
              "      <td>1329.000000</td>\n",
              "      <td>9669.000000</td>\n",
              "      <td>1628.000000</td>\n",
              "      <td>54.000000</td>\n",
              "      <td>12.000000</td>\n",
              "      <td>2626.000000</td>\n",
              "      <td>37.000000</td>\n",
              "      <td>283.000000</td>\n",
              "      <td>26.000000</td>\n",
              "      <td>3661.000000</td>\n",
              "      <td>23203.000000</td>\n",
              "      <td>2630.000000</td>\n",
              "      <td>5368.000000</td>\n",
              "      <td>1036.000000</td>\n",
              "      <td>2215.000000</td>\n",
              "      <td>243.000000</td>\n",
              "      <td>9880.000000</td>\n",
              "      <td>18003.000000</td>\n",
              "      <td>5.000000</td>\n",
              "      <td>271.000000</td>\n",
              "      <td>31.000000</td>\n",
              "      <td>3627.000000</td>\n",
              "      <td>2543.000000</td>\n",
              "      <td>1160.000000</td>\n",
              "      <td>1282.000000</td>\n",
              "      <td>289.000000</td>\n",
              "      <td>3695.000000</td>\n",
              "      <td>3425.000000</td>\n",
              "      <td>1114.000000</td>\n",
              "      <td>2314.000000</td>\n",
              "      <td>350.000000</td>\n",
              "      <td>9034.000000</td>\n",
              "      <td>628.000000</td>\n",
              "      <td>217.000000</td>\n",
              "      <td>13.000000</td>\n",
              "      <td>10.000000</td>\n",
              "      <td>3.00000</td>\n",
              "      <td>848.000000</td>\n",
              "      <td>13833.000000</td>\n",
              "      <td>5358.000000</td>\n",
              "      <td>75403.000000</td>\n",
              "      <td>3.000000</td>\n",
              "    </tr>\n",
              "  </tbody>\n",
              "</table>\n",
              "</div>"
            ],
            "text/plain": [
              "              vano         mes  ...  registro_ocorrencias        fase\n",
              "count   344.000000  344.000000  ...            248.000000  344.000000\n",
              "mean   2004.837209    6.453488  ...          53794.161290    2.994186\n",
              "std       8.289036    3.447759  ...          11039.051992    0.076138\n",
              "min    1991.000000    1.000000  ...          30621.000000    2.000000\n",
              "25%    1998.000000    3.000000  ...          45374.500000    3.000000\n",
              "50%    2005.000000    6.000000  ...          54926.500000    3.000000\n",
              "75%    2012.000000    9.000000  ...          63292.500000    3.000000\n",
              "max    2019.000000   12.000000  ...          75403.000000    3.000000\n",
              "\n",
              "[8 rows x 56 columns]"
            ]
          },
          "metadata": {
            "tags": []
          },
          "execution_count": 16
        }
      ]
    },
    {
      "cell_type": "code",
      "metadata": {
        "id": "qIZdRcOHElPk",
        "colab_type": "code",
        "colab": {
          "base_uri": "https://localhost:8080/",
          "height": 34
        },
        "outputId": "ee071cb9-c7e9-4d45-c923-0e8f0ad2f4db"
      },
      "source": [
        "df.roubo_veiculo.mean()"
      ],
      "execution_count": 19,
      "outputs": [
        {
          "output_type": "execute_result",
          "data": {
            "text/plain": [
              "2448.6976744186045"
            ]
          },
          "metadata": {
            "tags": []
          },
          "execution_count": 19
        }
      ]
    },
    {
      "cell_type": "markdown",
      "metadata": {
        "id": "lBGZV0BcGEHW",
        "colab_type": "text"
      },
      "source": [
        "Acima, conseguimos observar a média de roubo de veículos por mês.\n",
        "\n",
        "Agora, para comparar, vejamos abaixo a média de furtos de veículos por mês:"
      ]
    },
    {
      "cell_type": "code",
      "metadata": {
        "id": "6geX-nRHE_pJ",
        "colab_type": "code",
        "colab": {
          "base_uri": "https://localhost:8080/",
          "height": 34
        },
        "outputId": "4bd4c2bc-c52c-46c5-edd9-b9152ec75b60"
      },
      "source": [
        "df.furto_veiculos.mean()"
      ],
      "execution_count": 20,
      "outputs": [
        {
          "output_type": "execute_result",
          "data": {
            "text/plain": [
              "1674.671511627907"
            ]
          },
          "metadata": {
            "tags": []
          },
          "execution_count": 20
        }
      ]
    },
    {
      "cell_type": "markdown",
      "metadata": {
        "id": "gzyQQAlwGloD",
        "colab_type": "text"
      },
      "source": [
        "Observaos que a média mensal de furtos de veículos também é alta, porém, se compararmos, a quantidade de roubos ainda é maior que a de furtos, sendo então: \n",
        "\n",
        "1.   Roubos: 2448.7\n",
        "2.   Furtos: 1674.7\n"
      ]
    },
    {
      "cell_type": "markdown",
      "metadata": {
        "id": "hmngnEIVIWVR",
        "colab_type": "text"
      },
      "source": [
        "Agora vamos congtrastar com os dados referentes à recuperação de veículos por mês:"
      ]
    },
    {
      "cell_type": "code",
      "metadata": {
        "id": "oFPo0PXpHHgg",
        "colab_type": "code",
        "colab": {
          "base_uri": "https://localhost:8080/",
          "height": 34
        },
        "outputId": "b47b3b26-a942-4f76-8f7a-8a3760a95b2d"
      },
      "source": [
        "df.recuperacao_veiculos.mean()"
      ],
      "execution_count": 21,
      "outputs": [
        {
          "output_type": "execute_result",
          "data": {
            "text/plain": [
              "1772.2383720930231"
            ]
          },
          "metadata": {
            "tags": []
          },
          "execution_count": 21
        }
      ]
    },
    {
      "cell_type": "markdown",
      "metadata": {
        "id": "riyHUWPoIb3t",
        "colab_type": "text"
      },
      "source": [
        "Se relacionarmos, tanto o roubo quanto o furto de veículos, e compararmos suas médias com a recuperação de veículos, qual seria a porcentagem de recuperação de veículos por mês? Vejamos:\n",
        " "
      ]
    },
    {
      "cell_type": "code",
      "metadata": {
        "id": "GnDm-KkNI_Ip",
        "colab_type": "code",
        "colab": {
          "base_uri": "https://localhost:8080/",
          "height": 34
        },
        "outputId": "be9aa394-154a-4185-b3d5-5ffa9a52ddcf"
      },
      "source": [
        "prct_recuperacao = df.recuperacao_veiculos.mean() / (df.roubo_veiculo.mean() + df.furto_veiculos.mean())\n",
        "print(prct_recuperacao)"
      ],
      "execution_count": 25,
      "outputs": [
        {
          "output_type": "stream",
          "text": [
            "0.42980346705075084\n"
          ],
          "name": "stdout"
        }
      ]
    },
    {
      "cell_type": "markdown",
      "metadata": {
        "id": "Exhw2_FjKXcC",
        "colab_type": "text"
      },
      "source": [
        "Assim, observamos que a taxa de recuperação de veículos perdidos é de 42.98%.\n",
        "Com esta base podemos entender melhor a taxa de recuperação entre os veículos roubados e furtados que acabam sendo recuperados posteriormente."
      ]
    },
    {
      "cell_type": "markdown",
      "metadata": {
        "id": "a1L5FsAWRXCT",
        "colab_type": "text"
      },
      "source": [
        "### **Crimes Contra a Vida**"
      ]
    },
    {
      "cell_type": "markdown",
      "metadata": {
        "id": "FIW2r-N3YdZl",
        "colab_type": "text"
      },
      "source": [
        "Vamos ver abaixo uma comparação, entre os meses que menos houveram homicídios dolosos, e os que mais tiveram. Análise entre o Mínimo e o Máximo:"
      ]
    },
    {
      "cell_type": "code",
      "metadata": {
        "id": "BNFi21i5WfYd",
        "colab_type": "code",
        "colab": {
          "base_uri": "https://localhost:8080/",
          "height": 34
        },
        "outputId": "8541f7f1-b18a-458b-cdc9-343ee08aa1bd"
      },
      "source": [
        "df.hom_doloso.min()"
      ],
      "execution_count": 29,
      "outputs": [
        {
          "output_type": "execute_result",
          "data": {
            "text/plain": [
              "272"
            ]
          },
          "metadata": {
            "tags": []
          },
          "execution_count": 29
        }
      ]
    },
    {
      "cell_type": "code",
      "metadata": {
        "id": "S8BgjQruWjEl",
        "colab_type": "code",
        "colab": {
          "base_uri": "https://localhost:8080/",
          "height": 34
        },
        "outputId": "684069c4-f6b2-4b35-ebd5-098d43bedab3"
      },
      "source": [
        "df.hom_doloso.max()"
      ],
      "execution_count": 30,
      "outputs": [
        {
          "output_type": "execute_result",
          "data": {
            "text/plain": [
              "831"
            ]
          },
          "metadata": {
            "tags": []
          },
          "execution_count": 30
        }
      ]
    },
    {
      "cell_type": "markdown",
      "metadata": {
        "id": "SWxUoq8nY0pB",
        "colab_type": "text"
      },
      "source": [
        "OObservamos que o mês que menos houveram homicídios dolosos foram 272 registrados, e o que houverm mais foram 831. Mas podemos verificar também quando foi que estes dados ocorreram:"
      ]
    },
    {
      "cell_type": "code",
      "metadata": {
        "id": "lRU-jrZ_ZTpC",
        "colab_type": "code",
        "colab": {
          "base_uri": "https://localhost:8080/",
          "height": 100
        },
        "outputId": "b612176a-7e2a-4713-e368-e1253766b2db"
      },
      "source": [
        "# mês com menor índice de homicídios dolosos\n",
        "df[df.hom_doloso == 272]"
      ],
      "execution_count": 31,
      "outputs": [
        {
          "output_type": "execute_result",
          "data": {
            "text/html": [
              "<div>\n",
              "<style scoped>\n",
              "    .dataframe tbody tr th:only-of-type {\n",
              "        vertical-align: middle;\n",
              "    }\n",
              "\n",
              "    .dataframe tbody tr th {\n",
              "        vertical-align: top;\n",
              "    }\n",
              "\n",
              "    .dataframe thead th {\n",
              "        text-align: right;\n",
              "    }\n",
              "</style>\n",
              "<table border=\"1\" class=\"dataframe\">\n",
              "  <thead>\n",
              "    <tr style=\"text-align: right;\">\n",
              "      <th></th>\n",
              "      <th>vano</th>\n",
              "      <th>mes</th>\n",
              "      <th>hom_doloso</th>\n",
              "      <th>lesao_corp_morte</th>\n",
              "      <th>latrocinio</th>\n",
              "      <th>hom_por_interv_policial</th>\n",
              "      <th>tentat_hom</th>\n",
              "      <th>lesao_corp_dolosa</th>\n",
              "      <th>estupro</th>\n",
              "      <th>hom_culposo</th>\n",
              "      <th>lesao_corp_culposa</th>\n",
              "      <th>roubo_comercio</th>\n",
              "      <th>roubo_residencia</th>\n",
              "      <th>roubo_veiculo</th>\n",
              "      <th>roubo_carga</th>\n",
              "      <th>roubo_transeunte</th>\n",
              "      <th>roubo_em_coletivo</th>\n",
              "      <th>roubo_banco</th>\n",
              "      <th>roubo_cx_eletronico</th>\n",
              "      <th>roubo_celular</th>\n",
              "      <th>roubo_conducao_saque</th>\n",
              "      <th>roubo_apos_saque</th>\n",
              "      <th>roubo_bicicleta</th>\n",
              "      <th>outros_roubos</th>\n",
              "      <th>total_roubos</th>\n",
              "      <th>furto_veiculos</th>\n",
              "      <th>furto_transeunte</th>\n",
              "      <th>furto_coletivo</th>\n",
              "      <th>furto_celular</th>\n",
              "      <th>furto_bicicleta</th>\n",
              "      <th>outros_furtos</th>\n",
              "      <th>total_furtos</th>\n",
              "      <th>sequestro</th>\n",
              "      <th>extorsao</th>\n",
              "      <th>sequestro_relampago</th>\n",
              "      <th>estelionato</th>\n",
              "      <th>apreensao_drogas</th>\n",
              "      <th>posse_drogas</th>\n",
              "      <th>trafico_drogas</th>\n",
              "      <th>apreensao_drogas_sem_autor</th>\n",
              "      <th>recuperacao_veiculos</th>\n",
              "      <th>apf</th>\n",
              "      <th>aaapai</th>\n",
              "      <th>cmp</th>\n",
              "      <th>cmba</th>\n",
              "      <th>ameaca</th>\n",
              "      <th>pessoas_desaparecidas</th>\n",
              "      <th>encontro_cadaver</th>\n",
              "      <th>encontro_ossada</th>\n",
              "      <th>pol_militares_mortos_serv</th>\n",
              "      <th>pol_civis_mortos_serv</th>\n",
              "      <th>indicador_letalidade</th>\n",
              "      <th>indicador_roubo_rua</th>\n",
              "      <th>indicador_roubo_veic</th>\n",
              "      <th>registro_ocorrencias</th>\n",
              "      <th>fase</th>\n",
              "    </tr>\n",
              "  </thead>\n",
              "  <tbody>\n",
              "    <tr>\n",
              "      <th>293</th>\n",
              "      <td>2015</td>\n",
              "      <td>6</td>\n",
              "      <td>272</td>\n",
              "      <td>2.0</td>\n",
              "      <td>16</td>\n",
              "      <td>44.0</td>\n",
              "      <td>477</td>\n",
              "      <td>5535</td>\n",
              "      <td>389.0</td>\n",
              "      <td>140.0</td>\n",
              "      <td>3369.0</td>\n",
              "      <td>465</td>\n",
              "      <td>96</td>\n",
              "      <td>2254</td>\n",
              "      <td>566</td>\n",
              "      <td>4421</td>\n",
              "      <td>619</td>\n",
              "      <td>3</td>\n",
              "      <td>1.0</td>\n",
              "      <td>896.0</td>\n",
              "      <td>5.0</td>\n",
              "      <td>106.0</td>\n",
              "      <td>3.0</td>\n",
              "      <td>1243</td>\n",
              "      <td>10678</td>\n",
              "      <td>1333</td>\n",
              "      <td>2974</td>\n",
              "      <td>968.0</td>\n",
              "      <td>1514.0</td>\n",
              "      <td>5.0</td>\n",
              "      <td>7475</td>\n",
              "      <td>14269</td>\n",
              "      <td>0.0</td>\n",
              "      <td>192.0</td>\n",
              "      <td>10.0</td>\n",
              "      <td>2940.0</td>\n",
              "      <td>2134</td>\n",
              "      <td>845.0</td>\n",
              "      <td>1134.0</td>\n",
              "      <td>204.0</td>\n",
              "      <td>1768</td>\n",
              "      <td>3128.0</td>\n",
              "      <td>798.0</td>\n",
              "      <td>1676.0</td>\n",
              "      <td>57.0</td>\n",
              "      <td>5678.0</td>\n",
              "      <td>493.0</td>\n",
              "      <td>52</td>\n",
              "      <td>4.0</td>\n",
              "      <td>1.0</td>\n",
              "      <td>1.0</td>\n",
              "      <td>334</td>\n",
              "      <td>5936</td>\n",
              "      <td>2254</td>\n",
              "      <td>60357.0</td>\n",
              "      <td>3</td>\n",
              "    </tr>\n",
              "  </tbody>\n",
              "</table>\n",
              "</div>"
            ],
            "text/plain": [
              "     vano  mes  hom_doloso  ...  indicador_roubo_veic  registro_ocorrencias  fase\n",
              "293  2015    6         272  ...                  2254               60357.0     3\n",
              "\n",
              "[1 rows x 56 columns]"
            ]
          },
          "metadata": {
            "tags": []
          },
          "execution_count": 31
        }
      ]
    },
    {
      "cell_type": "code",
      "metadata": {
        "id": "ME6sIxG3Wo66",
        "colab_type": "code",
        "colab": {
          "base_uri": "https://localhost:8080/",
          "height": 100
        },
        "outputId": "732ce98a-ba0a-4b8f-8761-e2ee6e1b2368"
      },
      "source": [
        "# mês com maior índice de homicídios dolosos\n",
        "df[df.hom_doloso == 831]"
      ],
      "execution_count": 32,
      "outputs": [
        {
          "output_type": "execute_result",
          "data": {
            "text/html": [
              "<div>\n",
              "<style scoped>\n",
              "    .dataframe tbody tr th:only-of-type {\n",
              "        vertical-align: middle;\n",
              "    }\n",
              "\n",
              "    .dataframe tbody tr th {\n",
              "        vertical-align: top;\n",
              "    }\n",
              "\n",
              "    .dataframe thead th {\n",
              "        text-align: right;\n",
              "    }\n",
              "</style>\n",
              "<table border=\"1\" class=\"dataframe\">\n",
              "  <thead>\n",
              "    <tr style=\"text-align: right;\">\n",
              "      <th></th>\n",
              "      <th>vano</th>\n",
              "      <th>mes</th>\n",
              "      <th>hom_doloso</th>\n",
              "      <th>lesao_corp_morte</th>\n",
              "      <th>latrocinio</th>\n",
              "      <th>hom_por_interv_policial</th>\n",
              "      <th>tentat_hom</th>\n",
              "      <th>lesao_corp_dolosa</th>\n",
              "      <th>estupro</th>\n",
              "      <th>hom_culposo</th>\n",
              "      <th>lesao_corp_culposa</th>\n",
              "      <th>roubo_comercio</th>\n",
              "      <th>roubo_residencia</th>\n",
              "      <th>roubo_veiculo</th>\n",
              "      <th>roubo_carga</th>\n",
              "      <th>roubo_transeunte</th>\n",
              "      <th>roubo_em_coletivo</th>\n",
              "      <th>roubo_banco</th>\n",
              "      <th>roubo_cx_eletronico</th>\n",
              "      <th>roubo_celular</th>\n",
              "      <th>roubo_conducao_saque</th>\n",
              "      <th>roubo_apos_saque</th>\n",
              "      <th>roubo_bicicleta</th>\n",
              "      <th>outros_roubos</th>\n",
              "      <th>total_roubos</th>\n",
              "      <th>furto_veiculos</th>\n",
              "      <th>furto_transeunte</th>\n",
              "      <th>furto_coletivo</th>\n",
              "      <th>furto_celular</th>\n",
              "      <th>furto_bicicleta</th>\n",
              "      <th>outros_furtos</th>\n",
              "      <th>total_furtos</th>\n",
              "      <th>sequestro</th>\n",
              "      <th>extorsao</th>\n",
              "      <th>sequestro_relampago</th>\n",
              "      <th>estelionato</th>\n",
              "      <th>apreensao_drogas</th>\n",
              "      <th>posse_drogas</th>\n",
              "      <th>trafico_drogas</th>\n",
              "      <th>apreensao_drogas_sem_autor</th>\n",
              "      <th>recuperacao_veiculos</th>\n",
              "      <th>apf</th>\n",
              "      <th>aaapai</th>\n",
              "      <th>cmp</th>\n",
              "      <th>cmba</th>\n",
              "      <th>ameaca</th>\n",
              "      <th>pessoas_desaparecidas</th>\n",
              "      <th>encontro_cadaver</th>\n",
              "      <th>encontro_ossada</th>\n",
              "      <th>pol_militares_mortos_serv</th>\n",
              "      <th>pol_civis_mortos_serv</th>\n",
              "      <th>indicador_letalidade</th>\n",
              "      <th>indicador_roubo_rua</th>\n",
              "      <th>indicador_roubo_veic</th>\n",
              "      <th>registro_ocorrencias</th>\n",
              "      <th>fase</th>\n",
              "    </tr>\n",
              "  </thead>\n",
              "  <tbody>\n",
              "    <tr>\n",
              "      <th>48</th>\n",
              "      <td>1995</td>\n",
              "      <td>1</td>\n",
              "      <td>831</td>\n",
              "      <td>NaN</td>\n",
              "      <td>17</td>\n",
              "      <td>NaN</td>\n",
              "      <td>166</td>\n",
              "      <td>3626</td>\n",
              "      <td>NaN</td>\n",
              "      <td>NaN</td>\n",
              "      <td>NaN</td>\n",
              "      <td>323</td>\n",
              "      <td>174</td>\n",
              "      <td>2060</td>\n",
              "      <td>188</td>\n",
              "      <td>1056</td>\n",
              "      <td>377</td>\n",
              "      <td>38</td>\n",
              "      <td>NaN</td>\n",
              "      <td>NaN</td>\n",
              "      <td>NaN</td>\n",
              "      <td>NaN</td>\n",
              "      <td>NaN</td>\n",
              "      <td>134</td>\n",
              "      <td>4350</td>\n",
              "      <td>1924</td>\n",
              "      <td>520</td>\n",
              "      <td>NaN</td>\n",
              "      <td>NaN</td>\n",
              "      <td>NaN</td>\n",
              "      <td>2941</td>\n",
              "      <td>5385</td>\n",
              "      <td>NaN</td>\n",
              "      <td>NaN</td>\n",
              "      <td>NaN</td>\n",
              "      <td>NaN</td>\n",
              "      <td>147</td>\n",
              "      <td>NaN</td>\n",
              "      <td>NaN</td>\n",
              "      <td>NaN</td>\n",
              "      <td>1435</td>\n",
              "      <td>NaN</td>\n",
              "      <td>NaN</td>\n",
              "      <td>NaN</td>\n",
              "      <td>NaN</td>\n",
              "      <td>NaN</td>\n",
              "      <td>NaN</td>\n",
              "      <td>98</td>\n",
              "      <td>NaN</td>\n",
              "      <td>NaN</td>\n",
              "      <td>NaN</td>\n",
              "      <td>848</td>\n",
              "      <td>1433</td>\n",
              "      <td>2060</td>\n",
              "      <td>NaN</td>\n",
              "      <td>3</td>\n",
              "    </tr>\n",
              "  </tbody>\n",
              "</table>\n",
              "</div>"
            ],
            "text/plain": [
              "    vano  mes  hom_doloso  ...  indicador_roubo_veic  registro_ocorrencias  fase\n",
              "48  1995    1         831  ...                  2060                   NaN     3\n",
              "\n",
              "[1 rows x 56 columns]"
            ]
          },
          "metadata": {
            "tags": []
          },
          "execution_count": 32
        }
      ]
    },
    {
      "cell_type": "code",
      "metadata": {
        "id": "zswxBQzjZr1Y",
        "colab_type": "code",
        "colab": {}
      },
      "source": [
        "Observamos assim que, o mês com menos homicídios dolosos foi em Junho de 2015, e o mês com o maior índice foi Janeiro de 1995."
      ],
      "execution_count": null,
      "outputs": []
    },
    {
      "cell_type": "markdown",
      "metadata": {
        "id": "nqcKBRolaeMS",
        "colab_type": "text"
      },
      "source": [
        "Vamos observar abaixo um gráfico que nos mostra mais à respeito destes dados referentes à coluna de homicídio doloso:"
      ]
    },
    {
      "cell_type": "code",
      "metadata": {
        "id": "DX2eESY8atzE",
        "colab_type": "code",
        "colab": {
          "base_uri": "https://localhost:8080/",
          "height": 282
        },
        "outputId": "55c073b3-cedc-4350-f9e9-f3e78d05e397"
      },
      "source": [
        "# histograma de visualização\n",
        "df.hom_doloso.hist()"
      ],
      "execution_count": 33,
      "outputs": [
        {
          "output_type": "execute_result",
          "data": {
            "text/plain": [
              "<matplotlib.axes._subplots.AxesSubplot at 0x7f26ae5b4c18>"
            ]
          },
          "metadata": {
            "tags": []
          },
          "execution_count": 33
        },
        {
          "output_type": "display_data",
          "data": {
            "image/png": "[encoded data removed]",
            "text/plain": [
              "<Figure size 432x288 with 1 Axes>"
            ]
          },
          "metadata": {
            "tags": [],
            "needs_background": "light"
          }
        }
      ]
    },
    {
      "cell_type": "markdown",
      "metadata": {
        "id": "vk35sqqwa_OY",
        "colab_type": "text"
      },
      "source": [
        "Acima conseguimos fazer comparações entre os valores, onde por exemplo, podemos notar que houveram entre 450 - 500 homicídios dolosos em mais de 50 meses. \n",
        "Poderíamos analisar outros dados pertinentes também neste gráfico."
      ]
    },
    {
      "cell_type": "markdown",
      "metadata": {
        "id": "a_QCpIMmcL17",
        "colab_type": "text"
      },
      "source": [
        "## **Conclusão**"
      ]
    },
    {
      "cell_type": "markdown",
      "metadata": {
        "id": "sM5MhaxacQCo",
        "colab_type": "text"
      },
      "source": [
        "É notório que em todo o Brasil a violência tem aumentado, porém, com a ajuda dos dados fornecidos, é possível analisar e talvez, quem sabe, encontrar saídas para esta situação que nos deparamos constantemente. Estes dados analisados sobre a violência no Rio de Janeiro é um exemplo de como podemos tirar insights valiosos, e estruturar até mesmo um contexto histórico por meio de dados."
      ]
    },
    {
      "cell_type": "markdown",
      "metadata": {
        "id": "bDk0DJ7ZdKy3",
        "colab_type": "text"
      },
      "source": [
        "Para mais informações ou outros artigos, segue abaixo meu [Linkedin](https://www.linkedin.com/in/juliano-paiva-32078a12a/) ou [Github](https://github.com/ich-julianopds)"
      ]
    }
  ]
}